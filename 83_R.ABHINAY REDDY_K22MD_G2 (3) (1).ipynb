{
 "cells": [
  {
   "cell_type": "code",
   "execution_count": 2,
   "id": "2ff20e67",
   "metadata": {},
   "outputs": [],
   "source": [
    "import random\n",
    "import tkinter\n",
    "root = tkinter.Tk()\n",
    "root.geometry('400x400')\n",
    "root.title('dice rolling project')\n",
    "#label to print result\n",
    "label = tkinter.Label(root, text='', font=('Helvetica', 260))\n",
    "#label to introduce\n",
    "label2 = tkinter.Label(root, text='welcome to dice rolling simulator', font=('Helvetica',30))\n",
    "label2.place(x=350,y=400)\n",
    "def roll_dice():\n",
    "    value = ['\\u2680', '\\u2681', '\\u2682', '\\u2683', '\\u2684', '\\u2685']\n",
    "    result=random.choice(value)\n",
    "    label.configure(text=result)\n",
    "    label.pack()\n",
    "    if(result=='\\u2680'):\n",
    "        label3=tkinter.Label(root,text='You rolled a one! Click roll dice to roll again.',font=('Helvetica',20))\n",
    "        label3.place(x=350,y=450)\n",
    "    elif(result=='\\u2681'):\n",
    "        label3=tkinter.Label(root,text='You rolled a two! Click roll dice to roll again.',font=('Helvetica',20))\n",
    "        label3.place(x=350,y=450)\n",
    "    elif(result=='\\u2682'):\n",
    "        label3=tkinter.Label(root,text='You rolled a three! Click roll dice to roll again.',font=('Helvetica',20))\n",
    "        label3.place(x=350,y=450)\n",
    "    elif(result=='\\u2683'):\n",
    "        label3=tkinter.Label(root,text='You rolled a four! Click roll dice to roll again.',font=('Helvetica',20))\n",
    "        label3.place(x=350,y=450)\n",
    "    elif(result=='\\u2684'):\n",
    "        label3=tkinter.Label(root,text='You rolled a five! Click roll dice to roll again.',font=('Helvetica',20))\n",
    "        label3.place(x=350,y=450)\n",
    "    elif(result=='\\u2685'):\n",
    "        label3=tkinter.Label(root,text='You rolled a six! Click roll dice to roll again.',font=('Helvetica',20))\n",
    "        label3.place(x=350,y=450)\n",
    "button = tkinter.Button(root, text='roll dice', foreground='red', command=roll_dice)\n",
    "button.pack()\n",
    "root.mainloop()\n",
    "        \n"
   ]
  },
  {
   "cell_type": "code",
   "execution_count": null,
   "id": "effce6f5",
   "metadata": {},
   "outputs": [],
   "source": []
  }
 ],
 "metadata": {
  "kernelspec": {
   "display_name": "Python 3 (ipykernel)",
   "language": "python",
   "name": "python3"
  },
  "language_info": {
   "codemirror_mode": {
    "name": "ipython",
    "version": 3
   },
   "file_extension": ".py",
   "mimetype": "text/x-python",
   "name": "python",
   "nbconvert_exporter": "python",
   "pygments_lexer": "ipython3",
   "version": "3.9.12"
  }
 },
 "nbformat": 4,
 "nbformat_minor": 5
}
